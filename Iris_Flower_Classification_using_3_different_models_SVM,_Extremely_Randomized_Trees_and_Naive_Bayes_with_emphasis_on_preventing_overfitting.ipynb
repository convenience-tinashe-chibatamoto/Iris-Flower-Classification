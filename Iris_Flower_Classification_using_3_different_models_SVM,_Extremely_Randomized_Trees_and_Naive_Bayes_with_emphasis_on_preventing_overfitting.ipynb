{
  "nbformat": 4,
  "nbformat_minor": 0,
  "metadata": {
    "colab": {
      "provenance": [],
      "authorship_tag": "ABX9TyPQL/QFFbKBhNxCVyLYXR4I",
      "include_colab_link": true
    },
    "kernelspec": {
      "name": "python3",
      "display_name": "Python 3"
    },
    "language_info": {
      "name": "python"
    }
  },
  "cells": [
    {
      "cell_type": "markdown",
      "metadata": {
        "id": "view-in-github",
        "colab_type": "text"
      },
      "source": [
        "<a href=\"https://colab.research.google.com/github/convenience-tinashe-chibatamoto/Iris-Flower-Classification/blob/main/Iris_Flower_Classification_using_3_different_models_SVM%2C_Extremely_Randomized_Trees_and_Naive_Bayes_with_emphasis_on_preventing_overfitting.ipynb\" target=\"_parent\"><img src=\"https://colab.research.google.com/assets/colab-badge.svg\" alt=\"Open In Colab\"/></a>"
      ]
    },
    {
      "cell_type": "code",
      "source": [
        "# Importing necessary libraries\n",
        "import numpy as np\n",
        "import matplotlib.pyplot as plt\n",
        "from sklearn import datasets\n",
        "from sklearn.model_selection import train_test_split\n",
        "from sklearn.metrics import accuracy_score\n",
        "from sklearn.preprocessing import StandardScaler\n",
        "from sklearn.decomposition import PCA\n",
        "from sklearn.svm import SVC\n",
        "from sklearn.ensemble import ExtraTreesClassifier\n",
        "from sklearn.naive_bayes import GaussianNB"
      ],
      "metadata": {
        "id": "zWn57-wmZbh3"
      },
      "execution_count": 1,
      "outputs": []
    },
    {
      "cell_type": "code",
      "source": [
        "# Loading the Iris dataset\n",
        "iris = datasets.load_iris()\n",
        "X = iris.data\n",
        "y = iris.target"
      ],
      "metadata": {
        "id": "6n4P0oFEZiCJ"
      },
      "execution_count": 2,
      "outputs": []
    },
    {
      "cell_type": "code",
      "source": [
        "# Splitting the dataset into training and testing sets\n",
        "X_train, X_test, y_train, y_test = train_test_split(X, y, test_size=0.3, random_state=42)"
      ],
      "metadata": {
        "id": "GyJj_B3HZjg3"
      },
      "execution_count": 3,
      "outputs": []
    },
    {
      "cell_type": "code",
      "source": [
        "# Standardising features by removing the mean and scaling to unit variance\n",
        "scaler = StandardScaler()\n",
        "X_train = scaler.fit_transform(X_train)\n",
        "X_test = scaler.transform(X_test)"
      ],
      "metadata": {
        "id": "kWQB1i-sZpkk"
      },
      "execution_count": 4,
      "outputs": []
    },
    {
      "cell_type": "code",
      "source": [
        "# Reducing dimensionality with PCA\n",
        "pca = PCA(n_components=2)\n",
        "X_train_pca = pca.fit_transform(X_train)\n",
        "X_test_pca = pca.transform(X_test)"
      ],
      "metadata": {
        "id": "PBsYAzYxZzpd"
      },
      "execution_count": 5,
      "outputs": []
    },
    {
      "cell_type": "code",
      "source": [
        "# Initialising classifiers\n",
        "svm = SVC(probability=True, kernel='linear', C=1.0, random_state=42)\n",
        "ext_trees = ExtraTreesClassifier(n_estimators=100, random_state=42)\n",
        "nb = GaussianNB()"
      ],
      "metadata": {
        "id": "mg8qtjCZZ6UU"
      },
      "execution_count": 6,
      "outputs": []
    },
    {
      "cell_type": "code",
      "source": [
        "# Dictionary to hold models and their names\n",
        "models = {\n",
        "    'SVM': svm,\n",
        "    'Extremely Randomized Trees': ext_trees,\n",
        "    'Naive Bayes': nb\n",
        "}\n",
        "\n",
        "# Dictionary to hold accuracy scores\n",
        "scores = {}"
      ],
      "metadata": {
        "id": "VHUszImZaIne"
      },
      "execution_count": 7,
      "outputs": []
    },
    {
      "cell_type": "code",
      "source": [
        "# Training and evaluating each model using a for loop\n",
        "for model_name, model in models.items():\n",
        "    # Fit the model\n",
        "    model.fit(X_train_pca, y_train)\n",
        "\n",
        "    # Predict on the test set\n",
        "    y_pred = model.predict(X_test_pca)\n",
        "\n",
        "    # Calculate accuracy\n",
        "    accuracy = accuracy_score(y_test, y_pred)\n",
        "    scores[model_name] = accuracy"
      ],
      "metadata": {
        "id": "I8yxhvm3aNBH"
      },
      "execution_count": 8,
      "outputs": []
    },
    {
      "cell_type": "code",
      "source": [
        "# Model Soups\n",
        "def model_soups_acc(scores):\n",
        "    # Calculate the average accuracy\n",
        "    average_accuracy = np.mean(list(scores.values()))\n",
        "    # Add the average accuracy to the dictionary\n",
        "    scores['Average Result'] = average_accuracy\n",
        "    return scores\n",
        "\n",
        "# Update the scores dictionary with the averaged result\n",
        "scores = model_soups_acc(scores)\n",
        "\n",
        "# Visualization\n",
        "def visualize_scores(scores):\n",
        "    # Names of models\n",
        "    model_names = list(scores.keys())\n",
        "    # Corresponding scores\n",
        "    model_scores = list(scores.values())\n",
        "\n"
      ],
      "metadata": {
        "id": "wNLR1ATFb-Ko"
      },
      "execution_count": 9,
      "outputs": []
    },
    {
      "cell_type": "code",
      "execution_count": 10,
      "metadata": {
        "colab": {
          "base_uri": "https://localhost:8080/",
          "height": 564
        },
        "id": "viazVTbKZF5k",
        "outputId": "7286a99d-d28e-4140-af3e-62d30a20bbe9"
      },
      "outputs": [
        {
          "output_type": "display_data",
          "data": {
            "text/plain": [
              "<Figure size 1000x600 with 1 Axes>"
            ],
            "image/png": "[encoded data removed]"
          },
          "metadata": {}
        }
      ],
      "source": [
        "# Plotting the results\n",
        "labels = list(scores.keys())\n",
        "acc_scores = list(scores.values())\n",
        "\n",
        "plt.figure(figsize=(10, 6))\n",
        "plt.bar(labels, acc_scores, color=['red', 'green', 'blue', 'cyan', 'magenta', 'yellow', 'black', 'pink', 'lime', 'orange', 'purple', 'brown'])\n",
        "plt.xlabel('Algorithms')\n",
        "plt.ylabel('Accuracy Score')\n",
        "plt.title('Comparison of Algorithm Performance')\n",
        "plt.ylim([0, 1])\n",
        "plt.show()\n"
      ]
    }
  ]
}